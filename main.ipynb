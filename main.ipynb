{
 "cells": [
  {
   "cell_type": "markdown",
   "metadata": {},
   "source": [
    "## [Orientação a objetos](https://www.youtube.com/watch?v=xWTNoTtA9V8&list=PLOQgLBuj2-3L_L6ahsBVA_SzuGtKre3OK&index=2)\n"
   ]
  },
  {
   "cell_type": "markdown",
   "metadata": {},
   "source": [
    "### Herança e polimorfismo\n"
   ]
  },
  {
   "cell_type": "code",
   "execution_count": 3,
   "metadata": {},
   "outputs": [],
   "source": [
    "class Fila:\n",
    "    c_fila = []\n",
    "\n",
    "    @classmethod\n",
    "    def c_entrar(cls, obj):\n",
    "        cls.c_fila.append(obj)\n",
    "\n",
    "        return cls.c_fila\n",
    "\n",
    "    def __init__( self ):\n",
    "        self.s_fila = []\n",
    "\n",
    "    def s_entrar( self, obj ):\n",
    "        self.s_fila.append(obj)\n",
    "\n",
    "        return self.s_fila\n",
    "\n"
   ]
  },
  {
   "cell_type": "code",
   "execution_count": 9,
   "metadata": {},
   "outputs": [
    {
     "data": {
      "text/plain": [
       "['lucas']"
      ]
     },
     "execution_count": 9,
     "metadata": {},
     "output_type": "execute_result"
    }
   ],
   "source": [
    "f = Fila()\n",
    "f.s_entrar('lucas')"
   ]
  },
  {
   "cell_type": "code",
   "execution_count": 17,
   "metadata": {},
   "outputs": [
    {
     "data": {
      "text/plain": [
       "['vitor']"
      ]
     },
     "execution_count": 17,
     "metadata": {},
     "output_type": "execute_result"
    }
   ],
   "source": [
    "f.c_fila"
   ]
  },
  {
   "cell_type": "code",
   "execution_count": 19,
   "metadata": {},
   "outputs": [],
   "source": [
    "f1 = Fila()"
   ]
  },
  {
   "cell_type": "code",
   "execution_count": 21,
   "metadata": {},
   "outputs": [
    {
     "data": {
      "text/plain": [
       "[]"
      ]
     },
     "execution_count": 21,
     "metadata": {},
     "output_type": "execute_result"
    }
   ],
   "source": [
    "f1.s_fila"
   ]
  },
  {
   "cell_type": "code",
   "execution_count": 1,
   "metadata": {},
   "outputs": [],
   "source": [
    "class Class:\n",
    "    \n",
    "    @classmethod\n",
    "    def _classmethod(*args):\n",
    "        print(args)\n",
    "\n",
    "    def _method(*args):\n",
    "        print(args)       "
   ]
  },
  {
   "cell_type": "code",
   "execution_count": 2,
   "metadata": {},
   "outputs": [
    {
     "name": "stdout",
     "output_type": "stream",
     "text": [
      "(<__main__.Class object at 0x7ff9cae6c430>,)\n",
      "(<class '__main__.Class'>,)\n"
     ]
    }
   ],
   "source": [
    "c = Class()\n",
    "c._method() #objeto\n",
    "c._classmethod() #abstracao"
   ]
  },
  {
   "cell_type": "markdown",
   "metadata": {},
   "source": [
    "### Herancas e heranca multipla"
   ]
  },
  {
   "cell_type": "code",
   "execution_count": 4,
   "metadata": {},
   "outputs": [],
   "source": [
    "class Pizza():\n",
    "    pedaços = 8\n",
    "\n",
    "    def pegar_pedaços(self):\n",
    "        \"\"\"metodo de instancia\"\"\"\n",
    "        self.pedaços -= 1\n",
    "\n",
    "        return f'pedaços restantes {self.pedaços}'\n",
    "\n",
    "    @classmethod\n",
    "    def alterar_tamanho(cls, pedaços):\n",
    "        \"\"\"metodo de classe\"\"\"\n",
    "        cls.pedaços = pedaços\n",
    "\n",
    "    @staticmethod\n",
    "    def ingredientes():\n",
    "        return 'ingrediente'            "
   ]
  },
  {
   "cell_type": "code",
   "execution_count": 29,
   "metadata": {},
   "outputs": [],
   "source": [
    "class calabreza(Pizza):\n",
    "    @staticmethod\n",
    "    def ingredientes():\n",
    "       return ['molho de tomate', 'calabreza']\n"
   ]
  },
  {
   "cell_type": "code",
   "execution_count": 31,
   "metadata": {},
   "outputs": [
    {
     "data": {
      "text/plain": [
       "['molho de tomate', 'calabreza']"
      ]
     },
     "execution_count": 31,
     "metadata": {},
     "output_type": "execute_result"
    }
   ],
   "source": [
    "cal = calabreza()\n",
    "\n",
    "cal.ingredientes() # sobrescreve metodo da classe pai (overwrite the superclass method)\n"
   ]
  },
  {
   "cell_type": "markdown",
   "metadata": {},
   "source": [
    "## Encapsulamento:\n",
    "\n",
    "- atributo oculto do mundo,\n",
    "- clientes da classe nao podem modificar\n",
    "- '_atributo'"
   ]
  },
  {
   "cell_type": "code",
   "execution_count": 3,
   "metadata": {},
   "outputs": [
    {
     "data": {
      "text/plain": [
       "<module 'sys' (built-in)>"
      ]
     },
     "execution_count": 3,
     "metadata": {},
     "output_type": "execute_result"
    }
   ],
   "source": [
    "from collections import _sys\n",
    "\n",
    "_sys"
   ]
  },
  {
   "cell_type": "code",
   "execution_count": 4,
   "metadata": {},
   "outputs": [
    {
     "data": {
      "text/plain": [
       "<module 'sys' (built-in)>"
      ]
     },
     "execution_count": 4,
     "metadata": {},
     "output_type": "execute_result"
    }
   ],
   "source": [
    "import sys\n",
    "\n",
    "sys"
   ]
  },
  {
   "cell_type": "markdown",
   "metadata": {},
   "source": [
    "## Composicao\n",
    "\n",
    "- liga objetos sem utilizar herança\n",
    "\n",
    "\n",
    "\"Quem interage com a pizzaria tem a nescessidade de visualiazar o forno? ou saber como ele funciona?\""
   ]
  },
  {
   "cell_type": "code",
   "execution_count": 6,
   "metadata": {},
   "outputs": [],
   "source": [
    "class Pizzaria:\n",
    "    def __init__(self) -> None:\n",
    "        self._pizzaiolo = Pizzaiolo()\n",
    "    def pedido(self, pizza):\n",
    "        self._pizzaiolo.preparar_pizza(pizza)\n",
    "\n",
    "class Forno:\n",
    "    def __init__(self) -> None:\n",
    "        self.pizzas = []\n",
    "        self.lenha = None\n",
    "\n",
    "    def assar(self, pizza):\n",
    "        if not self.lenha:\n",
    "            print(\"nao ha lenha\")\n",
    "\n",
    "\n",
    "class Pizzaiolo:\n",
    "    def __init__(self) -> None:\n",
    "        self._forno = Forno()\n",
    "\n",
    "    def preparar_pizza(self, pizza):\n",
    "        self._forno.assar(pizza)\n"
   ]
  },
  {
   "cell_type": "code",
   "execution_count": 7,
   "metadata": {},
   "outputs": [
    {
     "name": "stdout",
     "output_type": "stream",
     "text": [
      "nao ha lenha\n"
     ]
    }
   ],
   "source": [
    "p = Pizzaria()\n",
    "p.pedido('mussarela') #CLIENTE NAO INTERAGE COM O FORNO"
   ]
  }
 ],
 "metadata": {
  "interpreter": {
   "hash": "36dfeacab975aa237876207fdd2f89d87bb8c54bc1d324028bae40b0fc5e5b66"
  },
  "kernelspec": {
   "display_name": "Python 3.9.2 64-bit ('.env': venv)",
   "language": "python",
   "name": "python3"
  },
  "language_info": {
   "codemirror_mode": {
    "name": "ipython",
    "version": 3
   },
   "file_extension": ".py",
   "mimetype": "text/x-python",
   "name": "python",
   "nbconvert_exporter": "python",
   "pygments_lexer": "ipython3",
   "version": "3.9.2"
  },
  "orig_nbformat": 4
 },
 "nbformat": 4,
 "nbformat_minor": 2
}
